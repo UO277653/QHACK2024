{
 "cells": [
  {
   "cell_type": "code",
   "execution_count": null,
   "id": "5792a908",
   "metadata": {},
   "outputs": [],
   "source": [
    "# general imports\n",
    "import matplotlib.pyplot as plt\n",
    "%matplotlib inline\n",
    "\n",
    "# AWS imports: Import Braket SDK modules\n",
    "from braket.circuits import Circuit\n",
    "from braket.devices import LocalSimulator"
   ]
  },
  {
   "cell_type": "code",
   "execution_count": null,
   "id": "9d3fcd28",
   "metadata": {},
   "outputs": [],
   "source": [
    "# define circuit with 4 qubits\n",
    "my_circuit = Circuit().h(range(4)).cnot(control=0, target=2).cnot(control=1, target=3)\n",
    "print(my_circuit)"
   ]
  },
  {
   "cell_type": "markdown",
   "id": "55b0dd3d",
   "metadata": {},
   "source": [
    "## Submit the circuit to the local simulator and obtain the results\n",
    "\n",
    "Here we submit our circuit to the local simulator and obtain the results."
   ]
  },
  {
   "cell_type": "code",
   "execution_count": null,
   "id": "bd84c466",
   "metadata": {},
   "outputs": [],
   "source": [
    "# set up the on-demand simulator SV1\n",
    "device = AwsDevice(\"arn:aws:braket:::device/quantum-simulator/amazon/sv1\")"
   ]
  },
  {
   "cell_type": "code",
   "execution_count": null,
   "id": "7900d7f2",
   "metadata": {},
   "outputs": [],
   "source": [
    "# set up device\n",
    "device = LocalSimulator()\n",
    "\n",
    "# run circuit\n",
    "result = device.run(my_circuit, shots=1000).result()\n",
    "# get measurement shots\n",
    "counts = result.measurement_counts\n",
    "# print counts\n",
    "print(counts)"
   ]
  },
  {
   "cell_type": "markdown",
   "id": "2c16548c",
   "metadata": {},
   "source": [
    "## CIRCUIT DEPTH AND CIRCUIT SIZE"
   ]
  },
  {
   "cell_type": "code",
   "execution_count": null,
   "id": "ed130ad2",
   "metadata": {},
   "outputs": [],
   "source": [
    "circuit_depth = my_circuit.depth\n",
    "print(my_circuit)\n",
    "print()\n",
    "print('Total circuit depth:', circuit_depth)"
   ]
  },
  {
   "cell_type": "markdown",
   "id": "87efddf8",
   "metadata": {},
   "source": [
    "## Cat qubits"
   ]
  },
  {
   "cell_type": "code",
   "execution_count": null,
   "id": "7e9eec31",
   "metadata": {},
   "outputs": [],
   "source": [
    "pip install qiskit-alice-bob-provider"
   ]
  },
  {
   "cell_type": "code",
   "execution_count": 3,
   "id": "67db4c1a",
   "metadata": {},
   "outputs": [
    {
     "name": "stdout",
     "output_type": "stream",
     "text": [
      "Collecting git+https://github.com/QuantumETS/pennylane-alice-bob.git@main\n",
      "  Cloning https://github.com/QuantumETS/pennylane-alice-bob.git (to revision main) to /tmp/pip-req-build-f7owf8m8\n",
      "  Running command git clone --filter=blob:none --quiet https://github.com/QuantumETS/pennylane-alice-bob.git /tmp/pip-req-build-f7owf8m8\n",
      "  Resolved https://github.com/QuantumETS/pennylane-alice-bob.git to commit d96962a1b0ef27b486e4905d19f4d2ab0abc3131\n",
      "  Preparing metadata (setup.py) ... \u001b[?25ldone\n",
      "\u001b[?25hRequirement already satisfied: pennylane>=0.15 in /home/ec2-user/anaconda3/envs/Braket/lib/python3.10/site-packages (from PennyLane-AliceBob==0.1.0) (0.34.0)\n",
      "Requirement already satisfied: numpy in /home/ec2-user/anaconda3/envs/Braket/lib/python3.10/site-packages (from PennyLane-AliceBob==0.1.0) (1.25.2)\n",
      "Requirement already satisfied: python-dateutil in /home/ec2-user/anaconda3/envs/Braket/lib/python3.10/site-packages (from PennyLane-AliceBob==0.1.0) (2.8.2)\n",
      "Requirement already satisfied: requests in /home/ec2-user/anaconda3/envs/Braket/lib/python3.10/site-packages (from PennyLane-AliceBob==0.1.0) (2.31.0)\n",
      "Requirement already satisfied: qiskit_alice_bob_provider in /home/ec2-user/anaconda3/envs/Braket/lib/python3.10/site-packages (from PennyLane-AliceBob==0.1.0) (0.5.1)\n",
      "Collecting pennylane-qiskit (from PennyLane-AliceBob==0.1.0)\n",
      "  Downloading PennyLane_qiskit-0.34.0-py3-none-any.whl.metadata (7.2 kB)\n",
      "Requirement already satisfied: matplotlib in /home/ec2-user/anaconda3/envs/Braket/lib/python3.10/site-packages (from PennyLane-AliceBob==0.1.0) (3.8.2)\n",
      "Requirement already satisfied: scipy in /home/ec2-user/anaconda3/envs/Braket/lib/python3.10/site-packages (from pennylane>=0.15->PennyLane-AliceBob==0.1.0) (1.12.0)\n",
      "Requirement already satisfied: networkx in /home/ec2-user/anaconda3/envs/Braket/lib/python3.10/site-packages (from pennylane>=0.15->PennyLane-AliceBob==0.1.0) (3.2.1)\n",
      "Requirement already satisfied: rustworkx in /home/ec2-user/anaconda3/envs/Braket/lib/python3.10/site-packages (from pennylane>=0.15->PennyLane-AliceBob==0.1.0) (0.14.0)\n",
      "Requirement already satisfied: autograd in /home/ec2-user/anaconda3/envs/Braket/lib/python3.10/site-packages (from pennylane>=0.15->PennyLane-AliceBob==0.1.0) (1.6.2)\n",
      "Requirement already satisfied: toml in /home/ec2-user/anaconda3/envs/Braket/lib/python3.10/site-packages (from pennylane>=0.15->PennyLane-AliceBob==0.1.0) (0.10.2)\n",
      "Requirement already satisfied: appdirs in /home/ec2-user/anaconda3/envs/Braket/lib/python3.10/site-packages (from pennylane>=0.15->PennyLane-AliceBob==0.1.0) (1.4.4)\n",
      "Requirement already satisfied: semantic-version>=2.7 in /home/ec2-user/anaconda3/envs/Braket/lib/python3.10/site-packages (from pennylane>=0.15->PennyLane-AliceBob==0.1.0) (2.10.0)\n",
      "Requirement already satisfied: autoray>=0.6.1 in /home/ec2-user/anaconda3/envs/Braket/lib/python3.10/site-packages (from pennylane>=0.15->PennyLane-AliceBob==0.1.0) (0.6.8)\n",
      "Requirement already satisfied: cachetools in /home/ec2-user/anaconda3/envs/Braket/lib/python3.10/site-packages (from pennylane>=0.15->PennyLane-AliceBob==0.1.0) (5.3.2)\n",
      "Requirement already satisfied: pennylane-lightning>=0.34 in /home/ec2-user/anaconda3/envs/Braket/lib/python3.10/site-packages (from pennylane>=0.15->PennyLane-AliceBob==0.1.0) (0.34.0)\n",
      "Requirement already satisfied: typing-extensions in /home/ec2-user/anaconda3/envs/Braket/lib/python3.10/site-packages (from pennylane>=0.15->PennyLane-AliceBob==0.1.0) (4.9.0)\n",
      "Requirement already satisfied: contourpy>=1.0.1 in /home/ec2-user/anaconda3/envs/Braket/lib/python3.10/site-packages (from matplotlib->PennyLane-AliceBob==0.1.0) (1.2.0)\n",
      "Requirement already satisfied: cycler>=0.10 in /home/ec2-user/anaconda3/envs/Braket/lib/python3.10/site-packages (from matplotlib->PennyLane-AliceBob==0.1.0) (0.12.1)\n",
      "Requirement already satisfied: fonttools>=4.22.0 in /home/ec2-user/anaconda3/envs/Braket/lib/python3.10/site-packages (from matplotlib->PennyLane-AliceBob==0.1.0) (4.49.0)\n",
      "Requirement already satisfied: kiwisolver>=1.3.1 in /home/ec2-user/anaconda3/envs/Braket/lib/python3.10/site-packages (from matplotlib->PennyLane-AliceBob==0.1.0) (1.4.5)\n",
      "Requirement already satisfied: packaging>=20.0 in /home/ec2-user/anaconda3/envs/Braket/lib/python3.10/site-packages (from matplotlib->PennyLane-AliceBob==0.1.0) (23.2)\n",
      "Requirement already satisfied: pillow>=8 in /home/ec2-user/anaconda3/envs/Braket/lib/python3.10/site-packages (from matplotlib->PennyLane-AliceBob==0.1.0) (10.2.0)\n",
      "Requirement already satisfied: pyparsing>=2.3.1 in /home/ec2-user/anaconda3/envs/Braket/lib/python3.10/site-packages (from matplotlib->PennyLane-AliceBob==0.1.0) (3.1.1)\n",
      "Requirement already satisfied: six>=1.5 in /home/ec2-user/anaconda3/envs/Braket/lib/python3.10/site-packages (from python-dateutil->PennyLane-AliceBob==0.1.0) (1.16.0)\n",
      "Requirement already satisfied: qiskit>=0.32 in /home/ec2-user/anaconda3/envs/Braket/lib/python3.10/site-packages (from pennylane-qiskit->PennyLane-AliceBob==0.1.0) (0.44.3)\n",
      "Requirement already satisfied: qiskit-aer in /home/ec2-user/anaconda3/envs/Braket/lib/python3.10/site-packages (from pennylane-qiskit->PennyLane-AliceBob==0.1.0) (0.12.2)\n",
      "Collecting qiskit-ibm-runtime (from pennylane-qiskit->PennyLane-AliceBob==0.1.0)\n",
      "  Downloading qiskit_ibm_runtime-0.19.1-py3-none-any.whl.metadata (18 kB)\n",
      "Collecting qiskit-ibm-provider (from pennylane-qiskit->PennyLane-AliceBob==0.1.0)\n",
      "  Downloading qiskit_ibm_provider-0.9.0-py3-none-any.whl.metadata (7.2 kB)\n",
      "Requirement already satisfied: qiskit-terra<0.45.0,>=0.24.0 in /home/ec2-user/anaconda3/envs/Braket/lib/python3.10/site-packages (from qiskit_alice_bob_provider->PennyLane-AliceBob==0.1.0) (0.25.3)\n",
      "Requirement already satisfied: qiskit-qir-alice-bob-fork==0.3.2rc0 in /home/ec2-user/anaconda3/envs/Braket/lib/python3.10/site-packages (from qiskit_alice_bob_provider->PennyLane-AliceBob==0.1.0) (0.3.2rc0)\n",
      "Requirement already satisfied: tenacity in /home/ec2-user/anaconda3/envs/Braket/lib/python3.10/site-packages (from qiskit_alice_bob_provider->PennyLane-AliceBob==0.1.0) (8.2.3)\n",
      "Requirement already satisfied: pydantic>=2.0 in /home/ec2-user/anaconda3/envs/Braket/lib/python3.10/site-packages (from qiskit_alice_bob_provider->PennyLane-AliceBob==0.1.0) (2.6.1)\n",
      "Requirement already satisfied: pyqir==0.8.0 in /home/ec2-user/anaconda3/envs/Braket/lib/python3.10/site-packages (from qiskit-qir-alice-bob-fork==0.3.2rc0->qiskit_alice_bob_provider->PennyLane-AliceBob==0.1.0) (0.8.0)\n",
      "Requirement already satisfied: charset-normalizer<4,>=2 in /home/ec2-user/anaconda3/envs/Braket/lib/python3.10/site-packages (from requests->PennyLane-AliceBob==0.1.0) (3.3.2)\n",
      "Requirement already satisfied: idna<4,>=2.5 in /home/ec2-user/anaconda3/envs/Braket/lib/python3.10/site-packages (from requests->PennyLane-AliceBob==0.1.0) (3.6)\n",
      "Requirement already satisfied: urllib3<3,>=1.21.1 in /home/ec2-user/anaconda3/envs/Braket/lib/python3.10/site-packages (from requests->PennyLane-AliceBob==0.1.0) (2.0.7)\n",
      "Requirement already satisfied: certifi>=2017.4.17 in /home/ec2-user/anaconda3/envs/Braket/lib/python3.10/site-packages (from requests->PennyLane-AliceBob==0.1.0) (2024.2.2)\n",
      "Requirement already satisfied: annotated-types>=0.4.0 in /home/ec2-user/anaconda3/envs/Braket/lib/python3.10/site-packages (from pydantic>=2.0->qiskit_alice_bob_provider->PennyLane-AliceBob==0.1.0) (0.6.0)\n",
      "Requirement already satisfied: pydantic-core==2.16.2 in /home/ec2-user/anaconda3/envs/Braket/lib/python3.10/site-packages (from pydantic>=2.0->qiskit_alice_bob_provider->PennyLane-AliceBob==0.1.0) (2.16.2)\n",
      "Requirement already satisfied: ply>=3.10 in /home/ec2-user/anaconda3/envs/Braket/lib/python3.10/site-packages (from qiskit-terra<0.45.0,>=0.24.0->qiskit_alice_bob_provider->PennyLane-AliceBob==0.1.0) (3.11)\n",
      "Requirement already satisfied: psutil>=5 in /home/ec2-user/anaconda3/envs/Braket/lib/python3.10/site-packages (from qiskit-terra<0.45.0,>=0.24.0->qiskit_alice_bob_provider->PennyLane-AliceBob==0.1.0) (5.9.8)\n",
      "Requirement already satisfied: sympy>=1.3 in /home/ec2-user/anaconda3/envs/Braket/lib/python3.10/site-packages (from qiskit-terra<0.45.0,>=0.24.0->qiskit_alice_bob_provider->PennyLane-AliceBob==0.1.0) (1.12)\n",
      "Requirement already satisfied: dill>=0.3 in /home/ec2-user/anaconda3/envs/Braket/lib/python3.10/site-packages (from qiskit-terra<0.45.0,>=0.24.0->qiskit_alice_bob_provider->PennyLane-AliceBob==0.1.0) (0.3.8)\n",
      "Requirement already satisfied: stevedore>=3.0.0 in /home/ec2-user/anaconda3/envs/Braket/lib/python3.10/site-packages (from qiskit-terra<0.45.0,>=0.24.0->qiskit_alice_bob_provider->PennyLane-AliceBob==0.1.0) (5.1.0)\n",
      "Requirement already satisfied: symengine<0.10,>=0.9 in /home/ec2-user/anaconda3/envs/Braket/lib/python3.10/site-packages (from qiskit-terra<0.45.0,>=0.24.0->qiskit_alice_bob_provider->PennyLane-AliceBob==0.1.0) (0.9.2)\n",
      "Requirement already satisfied: future>=0.15.2 in /home/ec2-user/anaconda3/envs/Braket/lib/python3.10/site-packages (from autograd->pennylane>=0.15->PennyLane-AliceBob==0.1.0) (0.18.3)\n",
      "INFO: pip is looking at multiple versions of qiskit-ibm-provider to determine which version is compatible with other requirements. This could take a while.\n",
      "  Downloading qiskit_ibm_provider-0.8.0-py3-none-any.whl.metadata (7.2 kB)\n",
      "  Downloading qiskit_ibm_provider-0.7.3-py3-none-any.whl.metadata (7.2 kB)\n",
      "Collecting requests-ntlm>=1.1.0 (from qiskit-ibm-provider->pennylane-qiskit->PennyLane-AliceBob==0.1.0)\n",
      "  Downloading requests_ntlm-1.2.0-py3-none-any.whl.metadata (2.4 kB)\n",
      "Collecting websocket-client>=1.5.1 (from qiskit-ibm-provider->pennylane-qiskit->PennyLane-AliceBob==0.1.0)\n",
      "  Using cached websocket_client-1.7.0-py3-none-any.whl.metadata (7.9 kB)\n",
      "Collecting websockets>=10.0 (from qiskit-ibm-provider->pennylane-qiskit->PennyLane-AliceBob==0.1.0)\n",
      "  Downloading websockets-12.0-cp310-cp310-manylinux_2_5_x86_64.manylinux1_x86_64.manylinux_2_17_x86_64.manylinux2014_x86_64.whl.metadata (6.6 kB)\n",
      "INFO: pip is looking at multiple versions of qiskit-ibm-runtime to determine which version is compatible with other requirements. This could take a while.\n",
      "Collecting qiskit-ibm-runtime (from pennylane-qiskit->PennyLane-AliceBob==0.1.0)\n",
      "  Downloading qiskit_ibm_runtime-0.19.0-py3-none-any.whl.metadata (18 kB)\n",
      "  Downloading qiskit_ibm_runtime-0.18.0-py3-none-any.whl.metadata (18 kB)\n",
      "  Downloading qiskit_ibm_runtime-0.17.0-py3-none-any.whl.metadata (18 kB)\n",
      "Collecting ibm-platform-services>=0.22.6 (from qiskit-ibm-runtime->pennylane-qiskit->PennyLane-AliceBob==0.1.0)\n",
      "  Downloading ibm-platform-services-0.51.0.tar.gz (315 kB)\n",
      "\u001b[2K     \u001b[90m━━━━━━━━━━━━━━━━━━━━━━━━━━━━━━━━━━━━━━\u001b[0m \u001b[32m315.1/315.1 kB\u001b[0m \u001b[31m26.4 MB/s\u001b[0m eta \u001b[36m0:00:00\u001b[0m\n",
      "\u001b[?25h  Installing build dependencies ... \u001b[?25ldone\n",
      "\u001b[?25h  Getting requirements to build wheel ... \u001b[?25ldone\n",
      "\u001b[?25h  Installing backend dependencies ... \u001b[?25ldone\n",
      "\u001b[?25h  Preparing metadata (pyproject.toml) ... \u001b[?25ldone\n",
      "\u001b[?25hCollecting ibm-cloud-sdk-core<4.0.0,>=3.19.1 (from ibm-platform-services>=0.22.6->qiskit-ibm-runtime->pennylane-qiskit->PennyLane-AliceBob==0.1.0)\n",
      "  Downloading ibm-cloud-sdk-core-3.19.1.tar.gz (59 kB)\n",
      "\u001b[2K     \u001b[90m━━━━━━━━━━━━━━━━━━━━━━━━━━━━━━━━━━━━━━━━\u001b[0m \u001b[32m59.1/59.1 kB\u001b[0m \u001b[31m9.8 MB/s\u001b[0m eta \u001b[36m0:00:00\u001b[0m\n",
      "\u001b[?25h  Installing build dependencies ... \u001b[?25ldone\n",
      "\u001b[?25h  Getting requirements to build wheel ... \u001b[?25ldone\n",
      "\u001b[?25h  Installing backend dependencies ... \u001b[?25ldone\n",
      "\u001b[?25h  Preparing metadata (pyproject.toml) ... \u001b[?25ldone\n",
      "\u001b[?25hCollecting cryptography>=1.3 (from requests-ntlm>=1.1.0->qiskit-ibm-provider->pennylane-qiskit->PennyLane-AliceBob==0.1.0)\n",
      "  Downloading cryptography-42.0.3-cp39-abi3-manylinux_2_17_x86_64.manylinux2014_x86_64.whl.metadata (5.3 kB)\n",
      "Collecting pyspnego>=0.1.6 (from requests-ntlm>=1.1.0->qiskit-ibm-provider->pennylane-qiskit->PennyLane-AliceBob==0.1.0)\n",
      "  Downloading pyspnego-0.10.2-py3-none-any.whl.metadata (5.4 kB)\n",
      "Requirement already satisfied: pbr!=2.1.0,>=2.0.0 in /home/ec2-user/anaconda3/envs/Braket/lib/python3.10/site-packages (from stevedore>=3.0.0->qiskit-terra<0.45.0,>=0.24.0->qiskit_alice_bob_provider->PennyLane-AliceBob==0.1.0) (6.0.0)\n",
      "Requirement already satisfied: mpmath>=0.19 in /home/ec2-user/anaconda3/envs/Braket/lib/python3.10/site-packages (from sympy>=1.3->qiskit-terra<0.45.0,>=0.24.0->qiskit_alice_bob_provider->PennyLane-AliceBob==0.1.0) (1.3.0)\n",
      "Collecting cffi>=1.12 (from cryptography>=1.3->requests-ntlm>=1.1.0->qiskit-ibm-provider->pennylane-qiskit->PennyLane-AliceBob==0.1.0)\n",
      "  Using cached cffi-1.16.0-cp310-cp310-manylinux_2_17_x86_64.manylinux2014_x86_64.whl.metadata (1.5 kB)\n",
      "Collecting urllib3<3,>=1.21.1 (from requests->PennyLane-AliceBob==0.1.0)\n",
      "  Downloading urllib3-2.2.1-py3-none-any.whl.metadata (6.4 kB)\n",
      "Collecting PyJWT<3.0.0,>=2.8.0 (from ibm-cloud-sdk-core<4.0.0,>=3.19.1->ibm-platform-services>=0.22.6->qiskit-ibm-runtime->pennylane-qiskit->PennyLane-AliceBob==0.1.0)\n",
      "  Downloading PyJWT-2.8.0-py3-none-any.whl.metadata (4.2 kB)\n",
      "Collecting pycparser (from cffi>=1.12->cryptography>=1.3->requests-ntlm>=1.1.0->qiskit-ibm-provider->pennylane-qiskit->PennyLane-AliceBob==0.1.0)\n",
      "  Using cached pycparser-2.21-py2.py3-none-any.whl (118 kB)\n",
      "Downloading PennyLane_qiskit-0.34.0-py3-none-any.whl (28 kB)\n",
      "Downloading qiskit_ibm_provider-0.7.3-py3-none-any.whl (243 kB)\n",
      "\u001b[2K   \u001b[90m━━━━━━━━━━━━━━━━━━━━━━━━━━━━━━━━━━━━━━━━\u001b[0m \u001b[32m243.9/243.9 kB\u001b[0m \u001b[31m24.2 MB/s\u001b[0m eta \u001b[36m0:00:00\u001b[0m\n",
      "\u001b[?25hDownloading qiskit_ibm_runtime-0.17.0-py3-none-any.whl (229 kB)\n",
      "\u001b[2K   \u001b[90m━━━━━━━━━━━━━━━━━━━━━━━━━━━━━━━━━━━━━━━━\u001b[0m \u001b[32m229.7/229.7 kB\u001b[0m \u001b[31m20.3 MB/s\u001b[0m eta \u001b[36m0:00:00\u001b[0m\n",
      "\u001b[?25hDownloading requests_ntlm-1.2.0-py3-none-any.whl (6.0 kB)\n",
      "Using cached websocket_client-1.7.0-py3-none-any.whl (58 kB)\n",
      "Downloading websockets-12.0-cp310-cp310-manylinux_2_5_x86_64.manylinux1_x86_64.manylinux_2_17_x86_64.manylinux2014_x86_64.whl (130 kB)\n",
      "\u001b[2K   \u001b[90m━━━━━━━━━━━━━━━━━━━━━━━━━━━━━━━━━━━━━━━━\u001b[0m \u001b[32m130.2/130.2 kB\u001b[0m \u001b[31m13.3 MB/s\u001b[0m eta \u001b[36m0:00:00\u001b[0m\n",
      "\u001b[?25hDownloading cryptography-42.0.3-cp39-abi3-manylinux_2_17_x86_64.manylinux2014_x86_64.whl (4.6 MB)\n",
      "\u001b[2K   \u001b[90m━━━━━━━━━━━━━━━━━━━━━━━━━━━━━━━━━━━━━━━━\u001b[0m \u001b[32m4.6/4.6 MB\u001b[0m \u001b[31m23.7 MB/s\u001b[0m eta \u001b[36m0:00:00\u001b[0m:00:01\u001b[0m\n",
      "\u001b[?25hDownloading urllib3-2.2.1-py3-none-any.whl (121 kB)\n",
      "\u001b[2K   \u001b[90m━━━━━━━━━━━━━━━━━━━━━━━━━━━━━━━━━━━━━━━━\u001b[0m \u001b[32m121.1/121.1 kB\u001b[0m \u001b[31m8.0 MB/s\u001b[0m eta \u001b[36m0:00:00\u001b[0m\n",
      "\u001b[?25hDownloading pyspnego-0.10.2-py3-none-any.whl (129 kB)\n",
      "\u001b[2K   \u001b[90m━━━━━━━━━━━━━━━━━━━━━━━━━━━━━━━━━━━━━━━━\u001b[0m \u001b[32m129.9/129.9 kB\u001b[0m \u001b[31m13.0 MB/s\u001b[0m eta \u001b[36m0:00:00\u001b[0m\n",
      "\u001b[?25hUsing cached cffi-1.16.0-cp310-cp310-manylinux_2_17_x86_64.manylinux2014_x86_64.whl (443 kB)\n",
      "Downloading PyJWT-2.8.0-py3-none-any.whl (22 kB)\n",
      "Building wheels for collected packages: PennyLane-AliceBob, ibm-platform-services, ibm-cloud-sdk-core\n",
      "  Building wheel for PennyLane-AliceBob (setup.py) ... \u001b[?25ldone\n",
      "\u001b[?25h  Created wheel for PennyLane-AliceBob: filename=PennyLane_AliceBob-0.1.0-py3-none-any.whl size=5237 sha256=c1641ba9f360b1756a8b8aa6bb61884d79b5c7b7ed6e0c5771ec0123b1a1a836\n",
      "  Stored in directory: /tmp/pip-ephem-wheel-cache-tbme224j/wheels/fb/91/ef/0c9e70e44076ce6c79ae748b341a96728afe16d0eae2b7f91e\n",
      "  Building wheel for ibm-platform-services (pyproject.toml) ... \u001b[?25ldone\n",
      "\u001b[?25h  Created wheel for ibm-platform-services: filename=ibm_platform_services-0.51.0-py3-none-any.whl size=330668 sha256=48dd9cf0930e2083330f1cdd3fe75e8ec3f768a8daeafa891e7b60dcf0b5aeb7\n",
      "  Stored in directory: /home/ec2-user/.cache/pip/wheels/7c/53/36/c4d472580ad72eeaa5e00992b6ea127cd61b02c770fe0b56b6\n",
      "  Building wheel for ibm-cloud-sdk-core (pyproject.toml) ... \u001b[?25ldone\n",
      "\u001b[?25h  Created wheel for ibm-cloud-sdk-core: filename=ibm_cloud_sdk_core-3.19.1-py3-none-any.whl size=95828 sha256=3c4ba243379d4e5858ff3414c8cdbd5f0779480c4efc203465efd7843f5c95d8\n",
      "  Stored in directory: /home/ec2-user/.cache/pip/wheels/d9/b9/b2/2316e6df1fb93353a388ef07032b10655ca871c173b241e788\n",
      "Successfully built PennyLane-AliceBob ibm-platform-services ibm-cloud-sdk-core\n",
      "Installing collected packages: websockets, websocket-client, urllib3, PyJWT, pycparser, cffi, ibm-cloud-sdk-core, cryptography, pyspnego, ibm-platform-services, requests-ntlm, qiskit-ibm-provider, qiskit-ibm-runtime, pennylane-qiskit, PennyLane-AliceBob\n",
      "  Attempting uninstall: urllib3\n",
      "    Found existing installation: urllib3 2.0.7\n",
      "    Uninstalling urllib3-2.0.7:\n",
      "      Successfully uninstalled urllib3-2.0.7\n",
      "\u001b[31mERROR: pip's dependency resolver does not currently take into account all the packages that are installed. This behaviour is the source of the following dependency conflicts.\n",
      "botocore 1.34.29 requires urllib3<2.1,>=1.25.4; python_version >= \"3.10\", but you have urllib3 2.2.1 which is incompatible.\u001b[0m\u001b[31m\n",
      "\u001b[0mSuccessfully installed PennyLane-AliceBob-0.1.0 PyJWT-2.8.0 cffi-1.16.0 cryptography-42.0.3 ibm-cloud-sdk-core-3.19.1 ibm-platform-services-0.51.0 pennylane-qiskit-0.34.0 pycparser-2.21 pyspnego-0.10.2 qiskit-ibm-provider-0.7.3 qiskit-ibm-runtime-0.17.0 requests-ntlm-1.2.0 urllib3-2.2.1 websocket-client-1.7.0 websockets-12.0\n",
      "Note: you may need to restart the kernel to use updated packages.\n"
     ]
    }
   ],
   "source": [
    "pip install git+https://github.com/QuantumETS/pennylane-alice-bob.git@main"
   ]
  },
  {
   "cell_type": "code",
   "execution_count": 1,
   "id": "db67274f",
   "metadata": {},
   "outputs": [
    {
     "name": "stdout",
     "output_type": "stream",
     "text": [
      "[<ProcessorSimulator(name=EMU:6Q:PHYSICAL_CATS)>, <ProcessorSimulator(name=EMU:40Q:PHYSICAL_CATS)>, <ProcessorSimulator(name=EMU:40Q:LOGICAL_TARGET)>, <ProcessorSimulator(name=EMU:15Q:LOGICAL_EARLY)>, <ProcessorSimulator(name=EMU:1Q:LESCANNE_2020)>]\n"
     ]
    }
   ],
   "source": [
    "from qiskit_alice_bob_provider import AliceBobLocalProvider\n",
    "from qiskit import QuantumCircuit, execute, transpile\n",
    "\n",
    "provider = AliceBobLocalProvider()\n",
    "print(provider.backends())\n",
    "# EMU:6Q:PHYSICAL_CATS, EMU:40Q:PHYSICAL_CATS, EMU:1Q:LESCANNE_2020"
   ]
  },
  {
   "cell_type": "markdown",
   "id": "052f2264",
   "metadata": {},
   "source": [
    "## Grover"
   ]
  },
  {
   "cell_type": "code",
   "execution_count": null,
   "id": "4ff67413",
   "metadata": {},
   "outputs": [],
   "source": [
    "import pennylane as qml\n",
    "from pennylane import numpy as np\n",
    "\n",
    "# Define the Grover's algorithm circuit with expectation value measurements\n",
    "def grover_circuit_expectation(x):\n",
    "    qml.Hadamard(wires=0)\n",
    "    qml.Hadamard(wires=1)\n",
    "\n",
    "    # Oracle for the problem we want to solve (e.g., searching for a specific state)\n",
    "    oracle_expectation(x)\n",
    "\n",
    "    # Grover diffusion operator\n",
    "    grover_diffusion()\n",
    "\n",
    "# Oracle implementation with expectation value measurement (modify based on the problem)\n",
    "def oracle_expectation(x):\n",
    "    qml.CNOT(wires=[0, 1])\n",
    "    qml.PauliX(wires=1)\n",
    "    qml.CNOT(wires=[0, 1])\n",
    "    qml.Rot(x, x, x, wires=0)\n",
    "\n",
    "# Grover diffusion operator\n",
    "def grover_diffusion():\n",
    "    qml.Hadamard(wires=0)\n",
    "    qml.Hadamard(wires=1)\n",
    "    qml.PauliX(wires=0)\n",
    "    qml.PauliX(wires=1)\n",
    "    qml.CNOT(wires=[0, 1])\n",
    "    qml.Hadamard(wires=1)\n",
    "    qml.PauliX(wires=0)\n",
    "    qml.Hadamard(wires=0)\n",
    "    qml.Hadamard(wires=1)\n",
    "\n",
    "# Define the quantum device\n",
    "dev = qml.device(\"default.qubit\", wires=2)\n",
    "\n",
    "# Define the quantum circuit using the grover_circuit_expectation function\n",
    "@qml.qnode(dev)\n",
    "def full_grover_circuit_expectation(x):\n",
    "    grover_circuit_expectation(x)\n",
    "    return qml.expval(qml.PauliZ(0) @ qml.PauliZ(1))\n",
    "\n",
    "# Define the parameter\n",
    "x = np.array(0.5, requires_grad=True)\n",
    "\n",
    "# Execute the full Grover's algorithm circuit with expectation value measurement\n",
    "expval_full = full_grover_circuit_expectation(x)\n",
    "\n",
    "# Apply quantum circuit cutting to the Grover's algorithm with expectation value measurement\n",
    "@qml.cut_circuit(auto_cutter=True)\n",
    "@qml.qnode(dev)\n",
    "def cut_grover_circuit_expectation(x):\n",
    "    grover_circuit_expectation(x)\n",
    "    return qml.expval(qml.PauliZ(0) @ qml.PauliZ(1))\n",
    "\n",
    "# Execute the cut Grover's algorithm circuit with expectation value measurement\n",
    "expval_cut = cut_grover_circuit_expectation(x)\n",
    "\n",
    "# Compare the results\n",
    "print(\"Full Grover's Algorithm Circuit:\")\n",
    "print(expval_full)\n",
    "\n",
    "print(\"\\nCut Grover's Algorithm Circuit:\")\n",
    "print(expval_cut)"
   ]
  },
  {
   "cell_type": "code",
   "execution_count": 6,
   "id": "8b8c9354",
   "metadata": {},
   "outputs": [
    {
     "name": "stdout",
     "output_type": "stream",
     "text": [
      "Using alice & bob EMU:15Q:LOGICAL_EARLY backend...\n"
     ]
    },
    {
     "data": {
      "image/png": "[encoded data removed]",
      "text/plain": [
       "<Figure size 640x480 with 1 Axes>"
      ]
     },
     "metadata": {},
     "output_type": "display_data"
    }
   ],
   "source": [
    "import pennylane as qml\n",
    "from pennylane import numpy as np\n",
    "import matplotlib.pyplot as plt\n",
    "\n",
    "# Defining the oracle and the GroverSearch function\n",
    "n_wires = 3\n",
    "wires = list(range(n_wires))\n",
    "\n",
    "def oracle():\n",
    "    qml.Hadamard(wires[-1])\n",
    "    qml.Toffoli(wires=wires)\n",
    "    qml.Hadamard(wires[-1])\n",
    "\n",
    "def GroverSearch(device, num_iterations=1):\n",
    "    dev = device\n",
    "    \n",
    "    @qml.qnode(dev)\n",
    "    def circuit():\n",
    "        for wire in wires:\n",
    "            qml.Hadamard(wire)\n",
    "\n",
    "        for _ in range(num_iterations):\n",
    "            oracle()\n",
    "            qml.templates.GroverOperator(wires=wires)\n",
    "        return qml.probs(wires)\n",
    "    \n",
    "    return circuit()\n",
    "\n",
    "# Devices\n",
    "alice_bob_dev = qml.device(\"alicebob.qubit\", alice_backend=\"EMU:15Q:LOGICAL_EARLY\", wires=3, average_nb_photons=4, kappa_2=1e4)\n",
    "default_dev = qml.device(\"default.qubit\", wires=3)\n",
    "\n",
    "# Getting results from both devices\n",
    "alicebob_results = GroverSearch(alice_bob_dev, num_iterations=2)\n",
    "default_results = GroverSearch(default_dev, num_iterations=2)\n",
    "\n",
    "# Generating bit strings for x-axis labels\n",
    "bit_strings = [f\"{x:0{n_wires}b}\" for x in range(2**n_wires)]\n",
    "\n",
    "# Plotting\n",
    "fig, ax = plt.subplots()\n",
    "bar_width = 0.35\n",
    "index = np.arange(len(alicebob_results))\n",
    "\n",
    "bar1 = ax.bar(index, alicebob_results, bar_width, label='AliceBob Simulator')\n",
    "bar2 = ax.bar(index + bar_width, default_results, bar_width, label='Default Qubit')\n",
    "\n",
    "ax.set_xlabel('Bit String')\n",
    "ax.set_ylabel('Probability')\n",
    "ax.set_title('Grover Search Comparisons')\n",
    "ax.set_xticks(index + bar_width / 2)\n",
    "ax.set_xticklabels(bit_strings)\n",
    "ax.legend()\n",
    "\n",
    "plt.show()"
   ]
  },
  {
   "cell_type": "code",
   "execution_count": 9,
   "id": "0e51fd14",
   "metadata": {},
   "outputs": [
    {
     "ename": "AttributeError",
     "evalue": "module 'pennylane' has no attribute 'depth'",
     "output_type": "error",
     "traceback": [
      "\u001b[0;31m---------------------------------------------------------------------------\u001b[0m",
      "\u001b[0;31mAttributeError\u001b[0m                            Traceback (most recent call last)",
      "Cell \u001b[0;32mIn[9], line 1\u001b[0m\n\u001b[0;32m----> 1\u001b[0m circuit_depth \u001b[38;5;241m=\u001b[39m \u001b[43mqml\u001b[49m\u001b[38;5;241;43m.\u001b[39;49m\u001b[43mdepth\u001b[49m\n\u001b[1;32m      2\u001b[0m \u001b[38;5;28mprint\u001b[39m(default_results)\n\u001b[1;32m      3\u001b[0m \u001b[38;5;28mprint\u001b[39m()\n",
      "\u001b[0;31mAttributeError\u001b[0m: module 'pennylane' has no attribute 'depth'"
     ]
    }
   ],
   "source": [
    "circuit_depth = qml.depth\n",
    "print(default_results)\n",
    "print()\n",
    "print('Total circuit depth:', circuit_depth)"
   ]
  },
  {
   "cell_type": "code",
   "execution_count": 18,
   "id": "43962852",
   "metadata": {},
   "outputs": [
    {
     "name": "stdout",
     "output_type": "stream",
     "text": [
      "Using alice & bob EMU:15Q:LOGICAL_EARLY backend...\n"
     ]
    },
    {
     "name": "stderr",
     "output_type": "stream",
     "text": [
      "/home/ec2-user/anaconda3/envs/Braket/lib/python3.10/site-packages/pennylane/gradients/gradient_transform.py:293: UserWarning: Attempted to compute the gradient of a tape with no trainable parameters. If this is unintended, please mark trainable parameters in accordance with the chosen auto differentiation framework, or via the 'tape.trainable_params' property.\n",
      "  warnings.warn(_no_trainable_grad_warning)\n"
     ]
    },
    {
     "data": {
      "image/png": "[encoded data removed]",
      "text/plain": [
       "<Figure size 640x480 with 1 Axes>"
      ]
     },
     "metadata": {},
     "output_type": "display_data"
    },
    {
     "name": "stdout",
     "output_type": "stream",
     "text": [
      "Alice & Bob Specs: {'resources': Resources(num_wires=3, num_gates=11, gate_types=defaultdict(<class 'int'>, {'Hadamard': 7, 'Toffoli': 2, 'GroverOperator': 2}), gate_sizes=defaultdict(<class 'int'>, {1: 7, 3: 4}), depth=9, shots=Shots(total_shots=1024, shot_vector=(ShotCopies(1024 shots x 1),))), 'num_observables': 1, 'num_diagonalizing_gates': 0, 'num_trainable_params': 0, 'num_device_wires': 3, 'device_name': 'qiskit.remote', 'expansion_strategy': 'gradient', 'gradient_options': {}, 'interface': 'auto', 'diff_method': 'best', 'gradient_fn': 'pennylane.gradients.parameter_shift.param_shift', 'num_gradient_executions': 0}\n",
      "Default Specs: {'resources': Resources(num_wires=3, num_gates=11, gate_types=defaultdict(<class 'int'>, {'Hadamard': 7, 'Toffoli': 2, 'GroverOperator': 2}), gate_sizes=defaultdict(<class 'int'>, {1: 7, 3: 4}), depth=9, shots=Shots(total_shots=None, shot_vector=())), 'num_observables': 1, 'num_diagonalizing_gates': 0, 'num_trainable_params': 0, 'num_device_wires': 3, 'device_name': 'default.qubit', 'expansion_strategy': 'gradient', 'gradient_options': {}, 'interface': 'auto', 'diff_method': 'best', 'gradient_fn': 'backprop'}\n"
     ]
    }
   ],
   "source": [
    "import pennylane as qml\n",
    "from pennylane import numpy as np\n",
    "import matplotlib.pyplot as plt\n",
    "\n",
    "# Defining the oracle and the GroverSearch function\n",
    "n_wires = 3\n",
    "wires = list(range(n_wires))\n",
    "def oracle():\n",
    "    qml.Hadamard(wires[-1])\n",
    "    qml.Toffoli(wires=wires)\n",
    "    qml.Hadamard(wires[-1])\n",
    "\n",
    "def GroverSearch(device, num_iterations=1):\n",
    "    dev = device\n",
    "    \n",
    "    @qml.qnode(dev)\n",
    "    def circuit():\n",
    "        for wire in wires:\n",
    "            qml.Hadamard(wire)\n",
    "\n",
    "        for _ in range(num_iterations):\n",
    "            oracle()\n",
    "            qml.templates.GroverOperator(wires=wires)\n",
    "        return qml.probs(wires)\n",
    "    specs_func = qml.specs(circuit)\n",
    "    return circuit(), specs_func()\n",
    "\n",
    "# Devices\n",
    "alice_bob_dev = qml.device(\"alicebob.qubit\", alice_backend=\"EMU:15Q:LOGICAL_EARLY\", wires=3, average_nb_photons=4, kappa_2=1e4)\n",
    "default_dev = qml.device(\"default.qubit\", wires=3)\n",
    "\n",
    "# Getting results from both devices\n",
    "alicebob_results, alice_specs = GroverSearch(alice_bob_dev, num_iterations=2)\n",
    "default_results, default_specs = GroverSearch(default_dev, num_iterations=2)\n",
    "\n",
    "# Generating bit strings for x-axis labels\n",
    "bit_strings = [f\"{x:0{n_wires}b}\" for x in range(2**n_wires)]\n",
    "\n",
    "# Plotting\n",
    "fig, ax = plt.subplots()\n",
    "bar_width = 0.35\n",
    "index = np.arange(len(alicebob_results))\n",
    "\n",
    "bar1 = ax.bar(index, alicebob_results, bar_width, label='AliceBob Simulator')\n",
    "bar2 = ax.bar(index + bar_width, default_results, bar_width, label='Default Qubit')\n",
    "\n",
    "ax.set_xlabel('Bit String')\n",
    "ax.set_ylabel('Probability')\n",
    "ax.set_title('Grover Search Comparisons')\n",
    "ax.set_xticks(index + bar_width / 2)\n",
    "ax.set_xticklabels(bit_strings)\n",
    "ax.legend()\n",
    "\n",
    "plt.show()\n",
    "\n",
    "print('Alice & Bob Specs:', alice_specs)\n",
    "print('Default Specs:', default_specs)"
   ]
  },
  {
   "cell_type": "code",
   "execution_count": null,
   "id": "ad5fbdf8",
   "metadata": {},
   "outputs": [],
   "source": []
  }
 ],
 "metadata": {
  "kernelspec": {
   "display_name": "conda_braket",
   "language": "python",
   "name": "conda_braket"
  },
  "language_info": {
   "codemirror_mode": {
    "name": "ipython",
    "version": 3
   },
   "file_extension": ".py",
   "mimetype": "text/x-python",
   "name": "python",
   "nbconvert_exporter": "python",
   "pygments_lexer": "ipython3",
   "version": "3.10.13"
  }
 },
 "nbformat": 4,
 "nbformat_minor": 5
}
