{
 "cells": [
  {
   "cell_type": "markdown",
   "id": "9359f3af",
   "metadata": {},
   "source": [
    "# GROVER AND CIRCUIT CUTTING "
   ]
  },
  {
   "cell_type": "code",
   "execution_count": 6,
   "id": "a0f9799d",
   "metadata": {},
   "outputs": [
    {
     "ename": "ImportError",
     "evalue": "KaHyPar must be installed to use this method for automatic cut placement. Try pip install kahypar or visit https://kahypar.org/ for installation instructions.",
     "output_type": "error",
     "traceback": [
      "\u001B[1;31m---------------------------------------------------------------------------\u001B[0m",
      "\u001B[1;31mModuleNotFoundError\u001B[0m                       Traceback (most recent call last)",
      "\u001B[1;32m~\\anaconda3\\lib\\site-packages\\pennylane\\qcut\\kahypar.py\u001B[0m in \u001B[0;36mkahypar_cut\u001B[1;34m(graph, num_fragments, imbalance, edge_weights, node_weights, fragment_weights, hyperwire_weight, seed, config_path, trial, verbose)\u001B[0m\n\u001B[0;32m    102\u001B[0m     \u001B[1;32mtry\u001B[0m\u001B[1;33m:\u001B[0m\u001B[1;33m\u001B[0m\u001B[1;33m\u001B[0m\u001B[0m\n\u001B[1;32m--> 103\u001B[1;33m         \u001B[1;32mimport\u001B[0m \u001B[0mkahypar\u001B[0m\u001B[1;33m\u001B[0m\u001B[1;33m\u001B[0m\u001B[0m\n\u001B[0m\u001B[0;32m    104\u001B[0m     \u001B[1;32mexcept\u001B[0m \u001B[0mImportError\u001B[0m \u001B[1;32mas\u001B[0m \u001B[0me\u001B[0m\u001B[1;33m:\u001B[0m\u001B[1;33m\u001B[0m\u001B[1;33m\u001B[0m\u001B[0m\n",
      "\u001B[1;31mModuleNotFoundError\u001B[0m: No module named 'kahypar'",
      "\nThe above exception was the direct cause of the following exception:\n",
      "\u001B[1;31mImportError\u001B[0m                               Traceback (most recent call last)",
      "\u001B[1;32m~\\AppData\\Local\\Temp\\ipykernel_21796\\3420762826.py\u001B[0m in \u001B[0;36m<module>\u001B[1;34m\u001B[0m\n\u001B[0;32m     55\u001B[0m \u001B[1;33m\u001B[0m\u001B[0m\n\u001B[0;32m     56\u001B[0m \u001B[1;31m# Execute the cut Grover's algorithm circuit with expectation value measurement\u001B[0m\u001B[1;33m\u001B[0m\u001B[1;33m\u001B[0m\u001B[0m\n\u001B[1;32m---> 57\u001B[1;33m \u001B[0mexpval_cut\u001B[0m \u001B[1;33m=\u001B[0m \u001B[0mcut_grover_circuit_expectation\u001B[0m\u001B[1;33m(\u001B[0m\u001B[0mx\u001B[0m\u001B[1;33m)\u001B[0m\u001B[1;33m\u001B[0m\u001B[1;33m\u001B[0m\u001B[0m\n\u001B[0m\u001B[0;32m     58\u001B[0m \u001B[1;33m\u001B[0m\u001B[0m\n\u001B[0;32m     59\u001B[0m \u001B[1;31m# Compare the results\u001B[0m\u001B[1;33m\u001B[0m\u001B[1;33m\u001B[0m\u001B[0m\n",
      "\u001B[1;32m~\\anaconda3\\lib\\site-packages\\pennylane\\qnode.py\u001B[0m in \u001B[0;36m__call__\u001B[1;34m(self, *args, **kwargs)\u001B[0m\n\u001B[0;32m   1037\u001B[0m \u001B[1;33m\u001B[0m\u001B[0m\n\u001B[0;32m   1038\u001B[0m         \u001B[1;31m# pylint: disable=unexpected-keyword-arg\u001B[0m\u001B[1;33m\u001B[0m\u001B[1;33m\u001B[0m\u001B[0m\n\u001B[1;32m-> 1039\u001B[1;33m         res = qml.execute(\n\u001B[0m\u001B[0;32m   1040\u001B[0m             \u001B[1;33m(\u001B[0m\u001B[0mself\u001B[0m\u001B[1;33m.\u001B[0m\u001B[0m_tape\u001B[0m\u001B[1;33m,\u001B[0m\u001B[1;33m)\u001B[0m\u001B[1;33m,\u001B[0m\u001B[1;33m\u001B[0m\u001B[1;33m\u001B[0m\u001B[0m\n\u001B[0;32m   1041\u001B[0m             \u001B[0mdevice\u001B[0m\u001B[1;33m=\u001B[0m\u001B[0mself\u001B[0m\u001B[1;33m.\u001B[0m\u001B[0mdevice\u001B[0m\u001B[1;33m,\u001B[0m\u001B[1;33m\u001B[0m\u001B[1;33m\u001B[0m\u001B[0m\n",
      "\u001B[1;32m~\\anaconda3\\lib\\site-packages\\pennylane\\interfaces\\execution.py\u001B[0m in \u001B[0;36mexecute\u001B[1;34m(tapes, device, gradient_fn, interface, transform_program, config, grad_on_execution, gradient_kwargs, cache, cachesize, max_diff, override_shots, expand_fn, max_expansion, device_batch_transform, device_vjp)\u001B[0m\n\u001B[0;32m    630\u001B[0m                 \u001B[0mUserWarning\u001B[0m\u001B[1;33m,\u001B[0m\u001B[1;33m\u001B[0m\u001B[1;33m\u001B[0m\u001B[0m\n\u001B[0;32m    631\u001B[0m             )\n\u001B[1;32m--> 632\u001B[1;33m         \u001B[0mtapes\u001B[0m\u001B[1;33m,\u001B[0m \u001B[0mpost_processing\u001B[0m \u001B[1;33m=\u001B[0m \u001B[0mtransform_program\u001B[0m\u001B[1;33m(\u001B[0m\u001B[0mtapes\u001B[0m\u001B[1;33m)\u001B[0m\u001B[1;33m\u001B[0m\u001B[1;33m\u001B[0m\u001B[0m\n\u001B[0m\u001B[0;32m    633\u001B[0m     \u001B[1;32melse\u001B[0m\u001B[1;33m:\u001B[0m\u001B[1;33m\u001B[0m\u001B[1;33m\u001B[0m\u001B[0m\n\u001B[0;32m    634\u001B[0m         \u001B[1;31m# TODO: Remove once old device are removed\u001B[0m\u001B[1;33m\u001B[0m\u001B[1;33m\u001B[0m\u001B[0m\n",
      "\u001B[1;32m~\\anaconda3\\lib\\site-packages\\pennylane\\transforms\\core\\transform_program.py\u001B[0m in \u001B[0;36m__call__\u001B[1;34m(self, tapes)\u001B[0m\n\u001B[0;32m    433\u001B[0m                 \u001B[1;32mif\u001B[0m \u001B[0mself\u001B[0m\u001B[1;33m.\u001B[0m\u001B[0m_argnums\u001B[0m \u001B[1;32mis\u001B[0m \u001B[1;32mnot\u001B[0m \u001B[1;32mNone\u001B[0m \u001B[1;32mand\u001B[0m \u001B[0mself\u001B[0m\u001B[1;33m.\u001B[0m\u001B[0m_argnums\u001B[0m\u001B[1;33m[\u001B[0m\u001B[0mi\u001B[0m\u001B[1;33m]\u001B[0m \u001B[1;32mis\u001B[0m \u001B[1;32mnot\u001B[0m \u001B[1;32mNone\u001B[0m\u001B[1;33m:\u001B[0m\u001B[1;33m\u001B[0m\u001B[1;33m\u001B[0m\u001B[0m\n\u001B[0;32m    434\u001B[0m                     \u001B[0mtape\u001B[0m\u001B[1;33m.\u001B[0m\u001B[0mtrainable_params\u001B[0m \u001B[1;33m=\u001B[0m \u001B[0mself\u001B[0m\u001B[1;33m.\u001B[0m\u001B[0m_argnums\u001B[0m\u001B[1;33m[\u001B[0m\u001B[0mi\u001B[0m\u001B[1;33m]\u001B[0m\u001B[1;33m[\u001B[0m\u001B[0mj\u001B[0m\u001B[1;33m]\u001B[0m\u001B[1;33m\u001B[0m\u001B[1;33m\u001B[0m\u001B[0m\n\u001B[1;32m--> 435\u001B[1;33m                 \u001B[0mnew_tapes\u001B[0m\u001B[1;33m,\u001B[0m \u001B[0mfn\u001B[0m \u001B[1;33m=\u001B[0m \u001B[0mtransform\u001B[0m\u001B[1;33m(\u001B[0m\u001B[0mtape\u001B[0m\u001B[1;33m,\u001B[0m \u001B[1;33m*\u001B[0m\u001B[0mtargs\u001B[0m\u001B[1;33m,\u001B[0m \u001B[1;33m**\u001B[0m\u001B[0mtkwargs\u001B[0m\u001B[1;33m)\u001B[0m\u001B[1;33m\u001B[0m\u001B[1;33m\u001B[0m\u001B[0m\n\u001B[0m\u001B[0;32m    436\u001B[0m                 \u001B[0mexecution_tapes\u001B[0m\u001B[1;33m.\u001B[0m\u001B[0mextend\u001B[0m\u001B[1;33m(\u001B[0m\u001B[0mnew_tapes\u001B[0m\u001B[1;33m)\u001B[0m\u001B[1;33m\u001B[0m\u001B[1;33m\u001B[0m\u001B[0m\n\u001B[0;32m    437\u001B[0m \u001B[1;33m\u001B[0m\u001B[0m\n",
      "\u001B[1;32m~\\anaconda3\\lib\\site-packages\\pennylane\\qcut\\cutcircuit.py\u001B[0m in \u001B[0;36mcut_circuit\u001B[1;34m(tape, auto_cutter, use_opt_einsum, device_wires, max_depth, **kwargs)\u001B[0m\n\u001B[0;32m    394\u001B[0m         )\n\u001B[0;32m    395\u001B[0m \u001B[1;33m\u001B[0m\u001B[0m\n\u001B[1;32m--> 396\u001B[1;33m         g = find_and_place_cuts(\n\u001B[0m\u001B[0;32m    397\u001B[0m             \u001B[0mgraph\u001B[0m\u001B[1;33m=\u001B[0m\u001B[0mg\u001B[0m\u001B[1;33m,\u001B[0m\u001B[1;33m\u001B[0m\u001B[1;33m\u001B[0m\u001B[0m\n\u001B[0;32m    398\u001B[0m             \u001B[0mcut_method\u001B[0m\u001B[1;33m=\u001B[0m\u001B[0mauto_cutter\u001B[0m \u001B[1;32mif\u001B[0m \u001B[0mcallable\u001B[0m\u001B[1;33m(\u001B[0m\u001B[0mauto_cutter\u001B[0m\u001B[1;33m)\u001B[0m \u001B[1;32melse\u001B[0m \u001B[0mkahypar_cut\u001B[0m\u001B[1;33m,\u001B[0m\u001B[1;33m\u001B[0m\u001B[1;33m\u001B[0m\u001B[0m\n",
      "\u001B[1;32m~\\anaconda3\\lib\\site-packages\\pennylane\\qcut\\utils.py\u001B[0m in \u001B[0;36mfind_and_place_cuts\u001B[1;34m(graph, cut_method, cut_strategy, replace_wire_cuts, local_measurement, **kwargs)\u001B[0m\n\u001B[0;32m    280\u001B[0m         \u001B[0mseeds\u001B[0m \u001B[1;33m=\u001B[0m \u001B[0mnp\u001B[0m\u001B[1;33m.\u001B[0m\u001B[0mrandom\u001B[0m\u001B[1;33m.\u001B[0m\u001B[0mdefault_rng\u001B[0m\u001B[1;33m(\u001B[0m\u001B[0mseed\u001B[0m\u001B[1;33m)\u001B[0m\u001B[1;33m.\u001B[0m\u001B[0mchoice\u001B[0m\u001B[1;33m(\u001B[0m\u001B[1;36m2\u001B[0m\u001B[1;33m**\u001B[0m\u001B[1;36m15\u001B[0m\u001B[1;33m,\u001B[0m \u001B[0mcut_strategy\u001B[0m\u001B[1;33m.\u001B[0m\u001B[0mtrials_per_probe\u001B[0m\u001B[1;33m)\u001B[0m\u001B[1;33m.\u001B[0m\u001B[0mtolist\u001B[0m\u001B[1;33m(\u001B[0m\u001B[1;33m)\u001B[0m\u001B[1;33m\u001B[0m\u001B[1;33m\u001B[0m\u001B[0m\n\u001B[0;32m    281\u001B[0m \u001B[1;33m\u001B[0m\u001B[0m\n\u001B[1;32m--> 282\u001B[1;33m         cut_edges_probed = {\n\u001B[0m\u001B[0;32m    283\u001B[0m             (cut_kwargs[\"num_fragments\"], trial_id): cut_method(\n\u001B[0;32m    284\u001B[0m                 \u001B[0mcut_graph\u001B[0m\u001B[1;33m,\u001B[0m\u001B[1;33m\u001B[0m\u001B[1;33m\u001B[0m\u001B[0m\n",
      "\u001B[1;32m~\\anaconda3\\lib\\site-packages\\pennylane\\qcut\\utils.py\u001B[0m in \u001B[0;36m<dictcomp>\u001B[1;34m(.0)\u001B[0m\n\u001B[0;32m    281\u001B[0m \u001B[1;33m\u001B[0m\u001B[0m\n\u001B[0;32m    282\u001B[0m         cut_edges_probed = {\n\u001B[1;32m--> 283\u001B[1;33m             (cut_kwargs[\"num_fragments\"], trial_id): cut_method(\n\u001B[0m\u001B[0;32m    284\u001B[0m                 \u001B[0mcut_graph\u001B[0m\u001B[1;33m,\u001B[0m\u001B[1;33m\u001B[0m\u001B[1;33m\u001B[0m\u001B[0m\n\u001B[0;32m    285\u001B[0m                 **{\n",
      "\u001B[1;32m~\\anaconda3\\lib\\site-packages\\pennylane\\qcut\\kahypar.py\u001B[0m in \u001B[0;36mkahypar_cut\u001B[1;34m(graph, num_fragments, imbalance, edge_weights, node_weights, fragment_weights, hyperwire_weight, seed, config_path, trial, verbose)\u001B[0m\n\u001B[0;32m    103\u001B[0m         \u001B[1;32mimport\u001B[0m \u001B[0mkahypar\u001B[0m\u001B[1;33m\u001B[0m\u001B[1;33m\u001B[0m\u001B[0m\n\u001B[0;32m    104\u001B[0m     \u001B[1;32mexcept\u001B[0m \u001B[0mImportError\u001B[0m \u001B[1;32mas\u001B[0m \u001B[0me\u001B[0m\u001B[1;33m:\u001B[0m\u001B[1;33m\u001B[0m\u001B[1;33m\u001B[0m\u001B[0m\n\u001B[1;32m--> 105\u001B[1;33m         raise ImportError(\n\u001B[0m\u001B[0;32m    106\u001B[0m             \u001B[1;34m\"KaHyPar must be installed to use this method for automatic \"\u001B[0m\u001B[1;33m\u001B[0m\u001B[1;33m\u001B[0m\u001B[0m\n\u001B[0;32m    107\u001B[0m             \u001B[1;34m\"cut placement. Try pip install kahypar or visit \"\u001B[0m\u001B[1;33m\u001B[0m\u001B[1;33m\u001B[0m\u001B[0m\n",
      "\u001B[1;31mImportError\u001B[0m: KaHyPar must be installed to use this method for automatic cut placement. Try pip install kahypar or visit https://kahypar.org/ for installation instructions."
     ]
    }
   ],
   "source": [
    "import pennylane as qml\n",
    "from pennylane import numpy as np\n",
    "\n",
    "# Define the Grover's algorithm circuit with expectation value measurements\n",
    "def grover_circuit_expectation(x):\n",
    "    qml.Hadamard(wires=0)\n",
    "    qml.Hadamard(wires=1)\n",
    "\n",
    "    # Oracle for the problem we want to solve (e.g., searching for a specific state)\n",
    "    oracle_expectation(x)\n",
    "\n",
    "    # Grover diffusion operator\n",
    "    grover_diffusion()\n",
    "\n",
    "# Oracle implementation with expectation value measurement (modify based on the problem)\n",
    "def oracle_expectation(x):\n",
    "    qml.CNOT(wires=[0, 1])\n",
    "    qml.PauliX(wires=1)\n",
    "    qml.CNOT(wires=[0, 1])\n",
    "    qml.Rot(x, x, x, wires=0)\n",
    "\n",
    "# Grover diffusion operator\n",
    "def grover_diffusion():\n",
    "    qml.Hadamard(wires=0)\n",
    "    qml.Hadamard(wires=1)\n",
    "    qml.PauliX(wires=0)\n",
    "    qml.PauliX(wires=1)\n",
    "    qml.CNOT(wires=[0, 1])\n",
    "    qml.Hadamard(wires=1)\n",
    "    qml.PauliX(wires=0)\n",
    "    qml.Hadamard(wires=0)\n",
    "    qml.Hadamard(wires=1)\n",
    "\n",
    "# Define the quantum device\n",
    "dev = qml.device(\"default.qubit\", wires=2)\n",
    "\n",
    "# Define the quantum circuit using the grover_circuit_expectation function\n",
    "@qml.qnode(dev)\n",
    "def full_grover_circuit_expectation(x):\n",
    "    grover_circuit_expectation(x)\n",
    "    return qml.expval(qml.PauliZ(0) @ qml.PauliZ(1))\n",
    "\n",
    "# Define the parameter\n",
    "x = np.array(0.5, requires_grad=True)\n",
    "\n",
    "# Execute the full Grover's algorithm circuit with expectation value measurement\n",
    "expval_full = full_grover_circuit_expectation(x)\n",
    "\n",
    "# Apply quantum circuit cutting to the Grover's algorithm with expectation value measurement\n",
    "@qml.cut_circuit(auto_cutter=True)\n",
    "@qml.qnode(dev)\n",
    "def cut_grover_circuit_expectation(x):\n",
    "    grover_circuit_expectation(x)\n",
    "    return qml.expval(qml.PauliZ(0) @ qml.PauliZ(1))\n",
    "\n",
    "# Execute the cut Grover's algorithm circuit with expectation value measurement\n",
    "expval_cut = cut_grover_circuit_expectation(x)\n",
    "\n",
    "# Compare the results\n",
    "print(\"Full Grover's Algorithm Circuit:\")\n",
    "print(expval_full)\n",
    "\n",
    "print(\"\\nCut Grover's Algorithm Circuit:\")\n",
    "print(expval_cut)\n"
   ]
  }
 ],
 "metadata": {
  "kernelspec": {
   "display_name": "Python 3 (ipykernel)",
   "language": "python",
   "name": "python3"
  },
  "language_info": {
   "codemirror_mode": {
    "name": "ipython",
    "version": 3
   },
   "file_extension": ".py",
   "mimetype": "text/x-python",
   "name": "python",
   "nbconvert_exporter": "python",
   "pygments_lexer": "ipython3",
   "version": "3.9.13"
  }
 },
 "nbformat": 4,
 "nbformat_minor": 5
}
